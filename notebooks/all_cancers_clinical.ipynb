{
 "cells": [
  {
   "cell_type": "markdown",
   "id": "b9f3b93ae185fe61",
   "metadata": {},
   "source": [
    "# All TCGA cancers analysis"
   ]
  },
  {
   "cell_type": "code",
   "execution_count": null,
   "id": "3b98f231-efd3-4132-94a0-769dd4509ee0",
   "metadata": {},
   "outputs": [],
   "source": [
    "import os\n",
    "os.environ['NUMEXPR_MAX_THREADS'] = '112'\n",
    "import numpy as np\n",
    "import matplotlib.pyplot as plt\n",
    "import pandas as pd\n",
    "from datetime import datetime\n",
    "import torch, sys, datetime, re, optuna, umap, warnings, scipy.stats\n",
    "import xgboost as xgb\n",
    "from sklearn.preprocessing import OneHotEncoder, LabelEncoder, MinMaxScaler, label_binarize\n",
    "from sklearn.utils.class_weight import compute_class_weight\n",
    "from sklearn.metrics import classification_report, roc_auc_score, average_precision_score, balanced_accuracy_score, cohen_kappa_score, log_loss\n",
    "from sklearn.model_selection import train_test_split\n",
    "from sklearn.preprocessing import MinMaxScaler, StandardScaler\n",
    "from sklearn.pipeline import Pipeline\n",
    "plt.style.use('ggplot')\n",
    "# Custom functions:\n",
    "from classification import *\n",
    "plt.style.use('ggplot')\n",
    "device = \"cpu\"\n",
    "today = datetime.datetime.now().strftime(\"%Y%m%d\")"
   ]
  },
  {
   "cell_type": "code",
   "execution_count": null,
   "id": "fd5086ac-9e0a-4516-ab62-db2dbbd24bc8",
   "metadata": {},
   "outputs": [],
   "source": [
    "save_dir = os.path.join('.',\n",
    "                        f'data/interim/{today}_all_cancers_classification')\n",
    "os.makedirs(save_dir,exist_ok=True)\n",
    "print(save_dir)"
   ]
  },
  {
   "cell_type": "code",
   "execution_count": null,
   "id": "137cdeaede52ec69",
   "metadata": {},
   "outputs": [],
   "source": [
    "def cancer_classification(histological_type_i,rnaseq,clinical_here,save_dir,\n",
    "                          features=None,\n",
    "                          n_threads=os.cpu_count(),\n",
    "                          n_trials_optuna=100,\n",
    "                          n_br=100,\n",
    "                          classification_type='weighted',\n",
    "                          stage_classification='i_ii_iii_iv',\n",
    "                          possible_stages=['Stage I','Stage II', 'Stage III', 'Stage IV'],\n",
    "                          scaler=None,\n",
    "                          per=20,\n",
    "                          test_size=0.2):\n",
    "    '''\n",
    "    Classify cancer histological type. This function follows these steps:\n",
    "    1. Extract corresponding stage and RNASeq information of given cancer\n",
    "    2. Preprocessing: removing lowly-expressed and lowly-variance genes.\n",
    "    3. Stage classification, based on the rnaseq data of the patients with the histological type  and the stage data from the clinical dataset. \n",
    "    Classification is performed through xgboost, after optimizing the hyperparameters with optuna.\n",
    "    \n",
    "    :param histological_type_i: cancer type to classify\n",
    "    :param rnaseq: rnaseq data for patients and genes\n",
    "    :param clinical_here: clinical data, including histological type and stage\n",
    "    :param save_dir: path to save the classification results\n",
    "    :param features: features (genes) to select from rnaseq for classification\n",
    "    :param n_threads: number of threads to use for parallel processing\n",
    "    :param n_trials_optuna: number of optuna trials\n",
    "    :param n_br: number of boosting rounds for xgboost\n",
    "    :param classification_type: must begin with 'weighted' or 'unbalanced'\n",
    "    :param stage_classification: type of classification to perform\n",
    "    :param possible_stages: use only these stages for classification; can also be 'early' and 'late'\n",
    "    :param scaler: scaler to use for data preprocessing or pipeline of scalers\n",
    "    :param per: percentage of zeros in rnaseq to remove genes during preprocessing\n",
    "    :param test_size: test size for classification\n",
    "    :return: \n",
    "    '''\n",
    "    assert classification_type.startswith('weighted') or classification_type.startswith('unbalanced')\n",
    "    assert stage_classification in ['i_ii_iii_iv','i_ii_iii','early_late']\n",
    "    assert possible_stages in [['Stage I','Stage II', 'Stage III', 'Stage IV'],['Stage I','Stage II', 'Stage III'],['early','late']]\n",
    "    assert scaler is None or isinstance(scaler,StandardScaler) or isinstance(scaler,Pipeline) or isinstance(scaler,MinMaxScaler)\n",
    "    assert isinstance(per,int) and per>0 and per<100\n",
    "    # Set random seed\n",
    "    seed_here = np.random.randint(0,1e6)\n",
    "    # Save path\n",
    "    print(histological_type_i)\n",
    "    save_dir_i = os.path.join(save_dir,histological_type_i)\n",
    "    os.makedirs(save_dir_i,exist_ok=True)\n",
    "    # Get clinical data of histological type i patients\n",
    "    clinical_i = clinical_here[clinical_here['histological_type']==histological_type_i]\n",
    "    # Get rnaseq data of histological type i patients\n",
    "    rnaseq_i = rnaseq.loc[:,rnaseq.columns.isin(clinical_i.index)]\n",
    "    # Feature selection or data preprocessing\n",
    "    if features is not None:\n",
    "        rnaseq_i = rnaseq_i.loc[features]\n",
    "        # Save rnaseq dataset:\n",
    "        rnaseq_i.to_csv(os.path.join(save_dir_i,'rnaseq_features.csv'))\n",
    "    # Remove lowly-expressed genes:\n",
    "    else:\n",
    "        # Keep genes with 0 expression in at least 20% of the patients\n",
    "        rnaseq_redux = rnaseq_i[(rnaseq_i==0).sum(axis=1)/rnaseq_i.shape[1]<=per/100]\n",
    "        # Keep genes whose mean expression and variance is equal or above 0.5 (in both cases).\n",
    "        rnaseq_i = rnaseq_redux.iloc[(np.mean(rnaseq_redux, axis=1).values >= 0.5) &\n",
    "                               (np.var(rnaseq_redux, axis=1).values >= 0.5)]\n",
    "        # Save rnaseq dataset:\n",
    "        rnaseq_i.to_csv(os.path.join(save_dir_i,'rnaseq_preprocessed.csv'))\n",
    "    # Refine selected stages\n",
    "    clinical_subset = clinical_i[clinical_i['ajcc_pathologic_tumor_stage'].isin(possible_stages)]\n",
    "    num_classes = len(clinical_subset['ajcc_pathologic_tumor_stage'].unique())\n",
    "    # Obtain corresponding rnaseq info\n",
    "    rnaseq_subset = rnaseq_i.loc[:,np.isin(rnaseq_i.columns, clinical_subset.index)]\n",
    "    # Check patients in clinical and rnaseq data coincides\n",
    "    if clinical_subset.shape[0] != rnaseq_subset.shape[1]:\n",
    "        clinical_subset = clinical_subset[clinical_subset.index.isin(rnaseq_subset.columns)]\n",
    "    # Save clinical data\n",
    "    clinical_subset.to_csv(os.path.join(save_dir_i,'clinical_subset.csv'))\n",
    "    # Check for no patients\n",
    "    if clinical_subset.shape[0]==0 or rnaseq_subset.shape[1]==0:\n",
    "        print(f'skipping {histological_type_i} classification because no patients were found')\n",
    "        return\n",
    "    # Scale rnaseq data\n",
    "    if scaler is not None:\n",
    "        cols_rnaseq = rnaseq_subset.columns\n",
    "        rows_rnaseq = rnaseq_subset.index\n",
    "        rnaseq_subset = scaler.fit_transform(rnaseq_subset)\n",
    "        # Save scaled rnaseq dataset:\n",
    "        pd.DataFrame(rnaseq_subset,columns=cols_rnaseq,index=rows_rnaseq).to_csv(os.path.join(save_dir_i,'rnaseq_scaled.csv'))\n",
    "    # Make classification\n",
    "    classification_type_fun = 'weighted' if classification_type.startswith('weighted') else 'unbalanced'\n",
    "    unbalanced_classification = classification_benchmark(\n",
    "        X_data=rnaseq_subset.T,\n",
    "        y_data=clinical_subset['ajcc_pathologic_tumor_stage'],\n",
    "        classification_type = classification_type_fun,\n",
    "        num_classes=num_classes,\n",
    "        seed=seed_here, \n",
    "        test_size=test_size,\n",
    "        n_br=n_br,\n",
    "        num_threads = n_threads,\n",
    "        n_trials = n_trials_optuna,\n",
    "    )\n",
    "    \n",
    "    return unbalanced_classification, save_dir_i, seed_here, classification_type_fun"
   ]
  },
  {
   "cell_type": "markdown",
   "id": "aa968c29-8673-4044-8650-a1e527734af0",
   "metadata": {},
   "source": [
    "## Load data"
   ]
  },
  {
   "cell_type": "code",
   "execution_count": null,
   "id": "6931517c-0969-4e50-959e-cf69a4f68f1a",
   "metadata": {},
   "outputs": [],
   "source": [
    "# RNA-seq data:\n",
    "rnaseq = pd.read_table(\"data/raw/BatchEffectsNormalizedmRNAdata_EB++AdjustPANCAN_IlluminaHiSeq_RNASeqV2.geneExp.xena\", \n",
    "                       index_col=0, \n",
    "                       sep=\"\\t\")\n",
    "print(rnaseq.shape)"
   ]
  },
  {
   "cell_type": "code",
   "execution_count": null,
   "id": "f332830a-c415-4dd0-83bf-175264320e2f",
   "metadata": {},
   "outputs": [],
   "source": [
    "# Remove duplicated gene\n",
    "rnaseq = rnaseq.loc[~rnaseq.index.duplicated(),:]\n",
    "rnaseq.shape"
   ]
  },
  {
   "cell_type": "code",
   "execution_count": null,
   "id": "994de00f-7d32-4461-96b7-515057319db1",
   "metadata": {},
   "outputs": [],
   "source": [
    "# Sample type and primary disease data:\n",
    "pheno = pd.read_table(\"data/raw/SampleTypeAndPrimaryDisease_TCGA_phenotype_denseDataOnlyDownload.tsv\",sep=\"\\t\",index_col=0)\n",
    "print(pheno.shape)\n",
    "print(pheno.columns)"
   ]
  },
  {
   "cell_type": "code",
   "execution_count": null,
   "id": "a0ace98c-2f2b-481a-99dc-c62c00542643",
   "metadata": {},
   "outputs": [],
   "source": [
    "pheno_primary=pheno[pheno['sample_type']=='Primary Tumor']\n",
    "print(pheno_primary.shape)"
   ]
  },
  {
   "cell_type": "code",
   "execution_count": null,
   "id": "fda36598-8d44-4d51-b4e8-1fe71773ae81",
   "metadata": {},
   "outputs": [],
   "source": [
    "# Load the data\n",
    "clinical_op = pd.read_csv('data/raw/CuratedClinicalData_Survival_SupplementalTable_S1_20171025_xena_sp', sep='\\t', index_col=0)\n",
    "clinical=clinical_op[['cancer type abbreviation', 'ajcc_pathologic_tumor_stage', 'histological_type']]\n",
    "clinical = clinical.dropna(subset=['ajcc_pathologic_tumor_stage'])\n",
    "print(clinical.shape)\n",
    "print(clinical.columns)"
   ]
  },
  {
   "cell_type": "markdown",
   "id": "10563c1f-6289-4087-9586-a4b8c642010e",
   "metadata": {},
   "source": [
    "## Select stages"
   ]
  },
  {
   "cell_type": "code",
   "execution_count": null,
   "id": "406c2e84-b5b6-4a76-aba9-c43847c3e79e",
   "metadata": {},
   "outputs": [],
   "source": [
    "# Merge sample index pheno_primary and clinical\n",
    "clinical_merge=clinical[clinical.index.isin(pheno_primary.index)]\n",
    "print(clinical_merge.shape)"
   ]
  },
  {
   "cell_type": "code",
   "execution_count": null,
   "id": "bfd77b65-a559-4085-ab02-8672177df01b",
   "metadata": {},
   "outputs": [],
   "source": [
    "# Remove stage cases with: [Discrepancy], IS, Stage X, [Unknown], I/II NOS\n",
    "clinical_merge=clinical_merge[\n",
    "    ~clinical_merge['ajcc_pathologic_tumor_stage'].isin(\n",
    "        ['[Discrepancy]','IS','Stage X','[Unknown]','I/II NOS'])\n",
    "]\n",
    "print(clinical_merge.shape)"
   ]
  },
  {
   "cell_type": "code",
   "execution_count": null,
   "id": "d5b2d4ad-1f6e-4cb2-b657-08ab9d095850",
   "metadata": {},
   "outputs": [],
   "source": [
    "# Remove A, B or C on each substage:\n",
    "stages_clump = []\n",
    "for i in clinical_merge[\"ajcc_pathologic_tumor_stage\"]:\n",
    "    if i.endswith(\"A\") or i.endswith(\"B\") or i.endswith(\"C\"):\n",
    "        stages_clump.append(i[:-1])\n",
    "        #print(i[:-1])\n",
    "    else:\n",
    "        stages_clump.append(i)\n",
    "        \n",
    "len(stages_clump)\n",
    "\n",
    "# Assign new stages:\n",
    "clinical_merge[\"ajcc_pathologic_tumor_stage\"] = stages_clump"
   ]
  },
  {
   "cell_type": "code",
   "execution_count": null,
   "id": "b43c28d1-a461-4f64-9b9b-4799d8dbfdb7",
   "metadata": {},
   "outputs": [],
   "source": [
    "# In clinical_merge, keep only the 10 most common cancer type abbreviations\n",
    "keep_cancer_types = clinical_merge['cancer type abbreviation'].value_counts().index[:10]\n",
    "clinical_merge = clinical_merge[clinical_merge['cancer type abbreviation'].isin(keep_cancer_types)]"
   ]
  },
  {
   "cell_type": "code",
   "execution_count": null,
   "id": "f2c2acde-1de4-4b83-9960-85b5d60676d9",
   "metadata": {},
   "outputs": [],
   "source": [
    "# In clinical_merge, keep only the 10 most common histological types\n",
    "keep_histological_types = clinical_merge['histological_type'].value_counts().index[:10]\n",
    "clinical_merge = clinical_merge[clinical_merge['histological_type'].isin(keep_histological_types)]\n",
    "clinical_merge[['cancer type abbreviation','histological_type']].value_counts()"
   ]
  },
  {
   "cell_type": "code",
   "execution_count": null,
   "id": "0aa7eb23-4243-430d-b52a-66359bae1665",
   "metadata": {},
   "outputs": [],
   "source": [
    "# assigning early/late labels to I,II/III,IV, respectively:\n",
    "dict_labels = {'Stage I':'early','Stage II':'early', 'Stage III':'late', 'Stage IV':'late'}\n",
    "clinical_early_late = clinical_merge.replace(dict_labels)"
   ]
  },
  {
   "cell_type": "markdown",
   "id": "e6f2de7c-c5df-4b3f-b8bc-ab1fe2470061",
   "metadata": {},
   "source": [
    "---"
   ]
  },
  {
   "cell_type": "markdown",
   "id": "7744440d-5ffd-40f5-8cdf-465d7f66008d",
   "metadata": {},
   "source": [
    "## Classification pipeline"
   ]
  },
  {
   "cell_type": "markdown",
   "id": "04e4c35e-0f62-40ea-94b3-72a51993d478",
   "metadata": {},
   "source": [
    "In the following cell, all possible parameters for the `cancer_classification` function are stated and explained.\n",
    "\n",
    "Comment out the different parameters to choose the behavior of `cancer_classification`."
   ]
  },
  {
   "cell_type": "code",
   "execution_count": null,
   "id": "3813caf0-7243-4583-90c0-9c447c6b550e",
   "metadata": {},
   "outputs": [],
   "source": [
    "#################\n",
    "# Parameters\n",
    "#################\n",
    "# Number of threads\n",
    "n_threads = 16\n",
    "# Number of optuna trials to run to find optimal hyperparameters\n",
    "n_trials_optuna = 100\n",
    "# Number of boosting rounds for xgboost\n",
    "n_br = 100\n",
    "\n",
    "# Clinical information: clinical_merge contains the specific stages (I to IV), \n",
    "# while clinical_early_late contains the early/late division of stages.\n",
    "# clinical_here = clinical_merge\n",
    "clinical_here = clinical_early_late\n",
    "\n",
    "# Classification type: must start with 'weighted' or 'unbalanced'\n",
    "# use an underscore _ and another word to further describe classification (eg unscaled if no scaling is used before classification)\n",
    "# This is the name of the path to save the classification results to.\n",
    "classification_type = 'weighted_unscaled'\n",
    "\n",
    "# Type of stage classification.\n",
    "# May be stages from I to III, I to IV, or early vs late (I and II vs III and IV)\n",
    "# stage_classification = 'i_ii_iii_iv'\n",
    "# stage_classification = 'i_ii_iii'\n",
    "stage_classification = 'early_late'\n",
    "\n",
    "# List of possible stages to classify:\n",
    "# possible_stages = ['Stage I','Stage II', 'Stage III', 'Stage IV']\n",
    "# possible_stages = ['Stage I','Stage II', 'Stage III']\n",
    "possible_stages = ['early','late']\n",
    "\n",
    "# Scaling steps for RNASeq before classification:\n",
    "#scaler = Pipeline(steps=[('scaler1', StandardScaler()),('scaler2', MinMaxScaler())])\n",
    "scaler = None\n",
    "\n",
    "# when detected this percentage of zeros in rnaseq, remove corresponding genes\n",
    "per = 20\n",
    "\n",
    "# If needed, a list of genes (features) may be selected to run the classification on\n",
    "features = None"
   ]
  },
  {
   "cell_type": "code",
   "execution_count": null,
   "id": "810c0b86dfc11c3a",
   "metadata": {},
   "outputs": [],
   "source": [
    "#################\n",
    "# Classification\n",
    "#################\n",
    "classification_results = []\n",
    "rnaseq_cancers = []\n",
    "# Run through given cancer types (histological types):\n",
    "for histological_type_i in keep_histological_types:\n",
    "    # Run classification pipeline on selected cancer\n",
    "    classification_results_i, save_dir_i, seed_here, classification_type_fun = cancer_classification(histological_type_i=histological_type_i,\n",
    "                          rnaseq=rnaseq,\n",
    "                          clinical_here=clinical_here,\n",
    "                          save_dir=save_dir,\n",
    "                          features=features,\n",
    "                          n_threads=n_threads,\n",
    "                          n_trials_optuna=n_trials_optuna,\n",
    "                          n_br=n_br,\n",
    "                          classification_type=classification_type,\n",
    "                          stage_classification=stage_classification,\n",
    "                          possible_stages=possible_stages,\n",
    "                          scaler=scaler,\n",
    "                          per=per,\n",
    "                          test_size=0.2)\n",
    "    # save classification results\n",
    "    classification_results.append(classification_results_i)\n",
    "    #rnaseq_cancers.append(rnaseq_i)\n",
    "    # plot results\n",
    "    (_, metrics_unbalanced, _, _, _, _) = classification_results_i\n",
    "    fig, ax = plt.subplots(figsize=(24, 7))\n",
    "    plot_metrics(metrics_here=metrics_unbalanced, \n",
    "                 title=f'{classification_type_fun}. \\nCancer histological type: {histological_type_i}',ax=ax,\n",
    "                 save_path=None,\n",
    "                 save_name='metrics_unbalanced',\n",
    "                 show_legend=True,show_plot=False)\n",
    "    save_classification_i = os.path.join(save_dir_i,classification_type,stage_classification)\n",
    "    os.makedirs(save_classification_i,exist_ok=True)\n",
    "    # plt.savefig(os.path.join(save_classification_i,'classification_results.png'),\n",
    "    #             bbox_inches='tight',\n",
    "    #             dpi=300,\n",
    "    #             format='png')\n",
    "    # plt.savefig(os.path.join(save_classification_i,'classification_results.pdf'),\n",
    "    #             bbox_inches='tight',\n",
    "    #             format='pdf')\n",
    "    plt.savefig(os.path.join(save_classification_i,'classification_results.svg'),\n",
    "                bbox_inches='tight',\n",
    "                format='svg')\n",
    "    plt.show()\n",
    "    print()\n",
    "    "
   ]
  },
  {
   "cell_type": "code",
   "execution_count": null,
   "id": "b784c5df-a648-4cdf-b328-1315982b8b75",
   "metadata": {},
   "outputs": [],
   "source": []
  }
 ],
 "metadata": {
  "kernelspec": {
   "display_name": "ML",
   "language": "python",
   "name": "ml"
  },
  "language_info": {
   "codemirror_mode": {
    "name": "ipython",
    "version": 3
   },
   "file_extension": ".py",
   "mimetype": "text/x-python",
   "name": "python",
   "nbconvert_exporter": "python",
   "pygments_lexer": "ipython3",
   "version": "3.12.2"
  }
 },
 "nbformat": 4,
 "nbformat_minor": 5
}
